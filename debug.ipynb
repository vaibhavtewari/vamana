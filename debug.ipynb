{
 "cells": [
  {
   "cell_type": "code",
   "execution_count": 14,
   "metadata": {},
   "outputs": [],
   "source": [
    "import numpy as np\n",
    "\n",
    "from conversions import *\n",
    "import gnobs, models, functions\n",
    "import read_pe_samples\n",
    "\n",
    "%matplotlib inline\n",
    "import matplotlib as mpl\n",
    "\n",
    "import matplotlib.pyplot as plt\n",
    "from importlib import reload"
   ]
  },
  {
   "cell_type": "code",
   "execution_count": 15,
   "metadata": {},
   "outputs": [],
   "source": [
    "import sys\n",
    "sys.path.append(\"analysis/\")\n",
    "\n",
    "# Define analysis\n",
    "import o1o2o3a_UinComov as analysis"
   ]
  },
  {
   "cell_type": "code",
   "execution_count": 16,
   "metadata": {},
   "outputs": [],
   "source": [
    "params = {'font.family': 'serif',\n",
    "          'legend.fontsize': 'large',\n",
    "          'axes.labelsize': 'large',\n",
    "          'axes.titlesize':'large',\n",
    "          'xtick.labelsize':'large',\n",
    "          'ytick.labelsize':'large','font.size':15}\n",
    "plt.rcParams.update(params)\n",
    "inches_to_cm = 2.54\n",
    "figsize = (40/inches_to_cm, 13/inches_to_cm)"
   ]
  },
  {
   "cell_type": "code",
   "execution_count": 17,
   "metadata": {},
   "outputs": [
    {
     "data": {
      "text/plain": [
       "<module 'functions' from '/nfshome/store04/users/vaibhav.tiwari/vamana/functions.py'>"
      ]
     },
     "execution_count": 17,
     "metadata": {},
     "output_type": "execute_result"
    }
   ],
   "source": [
    "reload(functions)"
   ]
  },
  {
   "cell_type": "code",
   "execution_count": 18,
   "metadata": {},
   "outputs": [],
   "source": [
    "# Read data\n",
    "nsamp = 7000\n",
    "ifar_thr = 5.0\n",
    "injections, pe = {}, {}\n",
    "pe_dir = 'gw_data/o1o2_ifar5_phenompv2/*.hdf5'\n",
    "pe['o1o2'] = read_pe_samples.read_pesamples(pe_dir, nsamp)\n",
    "pe_dir = 'gw_data/o3a_ifar5_phenompv2/*.hdf5'\n",
    "pe['o3a'] = read_pe_samples.read_pesamples(pe_dir, nsamp)\n",
    "\n",
    "fname = 'gw_data/o1o2_bbhpop_siminj.hdf'\n",
    "injections['o1o2'] = functions.read_injections_o1o2(fname)\n",
    "fname = 'gw_data/o3a_bbhpop_inj_info.hdf'\n",
    "injections['o3a'] = functions.read_injections_o3(fname, ifar_thr, 'aligned')"
   ]
  },
  {
   "cell_type": "code",
   "execution_count": 19,
   "metadata": {},
   "outputs": [
    {
     "data": {
      "text/plain": [
       "<module 'o1o2o3a_UinComov' from 'analysis/o1o2o3a_UinComov.py'>"
      ]
     },
     "execution_count": 19,
     "metadata": {},
     "output_type": "execute_result"
    }
   ],
   "source": [
    "reload(analysis)"
   ]
  },
  {
   "cell_type": "code",
   "execution_count": 20,
   "metadata": {},
   "outputs": [],
   "source": [
    "data_analysis = {}\n",
    "data_analysis['pe'] = pe\n",
    "data_analysis['injections'] = injections\n",
    "data_analysis['analysis'] = analysis"
   ]
  },
  {
   "cell_type": "raw",
   "metadata": {},
   "source": [
    "args_sampler, args_ppd = analysis.define_args(pe, injections)"
   ]
  },
  {
   "cell_type": "code",
   "execution_count": 21,
   "metadata": {},
   "outputs": [
    {
     "data": {
      "text/plain": [
       "<module 'functions' from '/nfshome/store04/users/vaibhav.tiwari/vamana/functions.py'>"
      ]
     },
     "execution_count": 21,
     "metadata": {},
     "output_type": "execute_result"
    }
   ],
   "source": [
    "reload(functions)"
   ]
  },
  {
   "cell_type": "code",
   "execution_count": null,
   "metadata": {},
   "outputs": [],
   "source": [
    "results = functions.function_gauss(data_analysis)"
   ]
  },
  {
   "cell_type": "code",
   "execution_count": null,
   "metadata": {},
   "outputs": [],
   "source": []
  }
 ],
 "metadata": {
  "kernelspec": {
   "display_name": "igwn-py37",
   "language": "python",
   "name": "igwn-py37"
  },
  "language_info": {
   "codemirror_mode": {
    "name": "ipython",
    "version": 3
   },
   "file_extension": ".py",
   "mimetype": "text/x-python",
   "name": "python",
   "nbconvert_exporter": "python",
   "pygments_lexer": "ipython3",
   "version": "3.7.10"
  }
 },
 "nbformat": 4,
 "nbformat_minor": 4
}
